{
 "cells": [
  {
   "cell_type": "markdown",
   "metadata": {
    "id": "WBk0ZDWY-ff8"
   },
   "source": [
    "<table align=\"center\">\n",
    "  <td align=\"center\"><a target=\"_blank\" href=\"http://introtodeeplearning.com\">\n",
    "        <img src=\"https://i.ibb.co/Jr88sn2/mit.png\" style=\"padding-bottom:5px;\" />\n",
    "      Visit MIT Deep Learning</a></td>\n",
    "  <td align=\"center\"><a target=\"_blank\" href=\"https://colab.research.google.com/github/aamini/introtodeeplearning/blob/2023/lab1/Part1_TensorFlow.ipynb\">\n",
    "        <img src=\"https://i.ibb.co/2P3SLwK/colab.png\"  style=\"padding-bottom:5px;\" />Run in Google Colab</a></td>\n",
    "  <td align=\"center\"><a target=\"_blank\" href=\"https://github.com/aamini/introtodeeplearning/blob/2023/lab1/Part1_TensorFlow.ipynb\">\n",
    "        <img src=\"https://i.ibb.co/xfJbPmL/github.png\"  height=\"70px\" style=\"padding-bottom:5px;\"  />View Source on GitHub</a></td>\n",
    "</table>\n",
    "\n",
    "\n",
    "# Copyright Information\n"
   ]
  },
  {
   "cell_type": "code",
   "execution_count": null,
   "metadata": {
    "id": "3eI6DUic-6jo"
   },
   "outputs": [],
   "source": [
    "# Copyright 2023 MIT Introduction to Deep Learning. All Rights Reserved.\n",
    "# \n",
    "# Licensed under the MIT License. You may not use this file except in compliance\n",
    "# with the License. Use and/or modification of this code outside of MIT Introduction\n",
    "# to Deep Learning must reference:\n",
    "#\n",
    "# © MIT Introduction to Deep Learning\n",
    "# http://introtodeeplearning.com\n",
    "#"
   ]
  },
  {
   "cell_type": "markdown",
   "metadata": {
    "id": "57knM8jrYZ2t"
   },
   "source": [
    "# Lab 1: Intro to TensorFlow and Music Generation with RNNs\n",
    "\n",
    "In this lab, you'll get exposure to using TensorFlow and learn how it can be used for solving deep learning tasks. Go through the code and run each cell. Along the way, you'll encounter several ***TODO*** blocks -- follow the instructions to fill them out before running those cells and continuing.\n",
    "\n",
    "\n",
    "# Part 1: Intro to TensorFlow\n",
    "\n",
    "## 0.1 Install TensorFlow\n",
    "\n",
    "TensorFlow is a software library extensively used in machine learning. Here we'll learn how computations are represented and how to define a simple neural network in TensorFlow. For all the labs in Introduction to Deep Learning 2023, we'll be using the latest version of TensorFlow, TensorFlow 2, which affords great flexibility and the ability to imperatively execute operations, just like in Python. You'll notice that TensorFlow 2 is quite similar to Python in its syntax and imperative execution. Let's install TensorFlow and a couple of dependencies.\n"
   ]
  },
  {
   "cell_type": "code",
   "execution_count": 53,
   "metadata": {
    "id": "LkaimNJfYZ2w"
   },
   "outputs": [],
   "source": [
    "import tensorflow as tf\n",
    "\n",
    "# Download and import the MIT Introduction to Deep Learning package\n",
    "import mitdeeplearning as mdl\n",
    "from mitdeeplearning import lab1\n",
    "\n",
    "import numpy as np\n",
    "import matplotlib.pyplot as plt"
   ]
  },
  {
   "cell_type": "markdown",
   "metadata": {
    "id": "2QNMcdP4m3Vs"
   },
   "source": [
    "## 1.1 Why is TensorFlow called TensorFlow?\n",
    "\n",
    "TensorFlow is called 'TensorFlow' because it handles the flow (node/mathematical operation) of Tensors, which are data structures that you can think of as multi-dimensional arrays. Tensors are represented as n-dimensional arrays of base dataypes such as a string or integer -- they provide a way to generalize vectors and matrices to higher dimensions.\n",
    "\n",
    "The ```shape``` of a Tensor defines its number of dimensions and the size of each dimension. The ```rank``` of a Tensor provides the number of dimensions (n-dimensions) -- you can also think of this as the Tensor's order or degree.\n",
    "\n",
    "Let's first look at 0-d Tensors, of which a scalar is an example:"
   ]
  },
  {
   "cell_type": "code",
   "execution_count": 5,
   "metadata": {
    "id": "tFxztZQInlAB"
   },
   "outputs": [
    {
     "name": "stdout",
     "output_type": "stream",
     "text": [
      "`sport` is a 0-d Tensor\n",
      "`number` is a 0-d Tensor\n"
     ]
    }
   ],
   "source": [
    "sport = tf.constant(\"Tennis\", tf.string)\n",
    "number = tf.constant(1.41421356237, tf.float64)\n",
    "\n",
    "print(\"`sport` is a {}-d Tensor\".format(tf.rank(sport).numpy()))\n",
    "print(\"`number` is a {}-d Tensor\".format(tf.rank(number).numpy()))"
   ]
  },
  {
   "cell_type": "markdown",
   "metadata": {
    "id": "-dljcPUcoJZ6"
   },
   "source": [
    "Vectors and lists can be used to create 1-d Tensors:"
   ]
  },
  {
   "cell_type": "code",
   "execution_count": 6,
   "metadata": {
    "id": "oaHXABe8oPcO"
   },
   "outputs": [
    {
     "name": "stdout",
     "output_type": "stream",
     "text": [
      "`sports` is a 1-d Tensor with shape: [2]\n",
      "`numbers` is a 1-d Tensor with shape: [3]\n"
     ]
    }
   ],
   "source": [
    "sports = tf.constant([\"Tennis\", \"Basketball\"], tf.string)\n",
    "numbers = tf.constant([3.141592, 1.414213, 2.71821], tf.float64)\n",
    "\n",
    "print(\"`sports` is a {}-d Tensor with shape: {}\".format(tf.rank(sports).numpy(), tf.shape(sports)))\n",
    "print(\"`numbers` is a {}-d Tensor with shape: {}\".format(tf.rank(numbers).numpy(), tf.shape(numbers)))"
   ]
  },
  {
   "cell_type": "markdown",
   "metadata": {
    "id": "gvffwkvtodLP"
   },
   "source": [
    "Next we consider creating 2-d (i.e., matrices) and higher-rank Tensors. For examples, in future labs involving image processing and computer vision, we will use 4-d Tensors. Here the dimensions correspond to the number of example images in our batch, image height, image width, and the number of color channels."
   ]
  },
  {
   "cell_type": "code",
   "execution_count": 8,
   "metadata": {
    "id": "tFeBBe1IouS3"
   },
   "outputs": [
    {
     "name": "stdout",
     "output_type": "stream",
     "text": [
      "matrix is a shape [2 2]\n"
     ]
    }
   ],
   "source": [
    "### Defining higher-order Tensors ###\n",
    "\n",
    "'''TODO: Define a 2-d Tensor'''\n",
    "matrix = tf.constant([[\"Tennis\",\"Basketball\"],[\"Love\",\"Hate\"]], tf.string)\n",
    "\n",
    "print(f\"matrix is a shape {tf.shape(matrix)}\")\n",
    "assert isinstance(matrix, tf.Tensor), \"matrix must be a tf Tensor object\"\n",
    "assert tf.rank(matrix).numpy() == 2"
   ]
  },
  {
   "cell_type": "code",
   "execution_count": 31,
   "metadata": {
    "id": "Zv1fTn_Ya_cz"
   },
   "outputs": [],
   "source": [
    "'''TODO: Define a 4-d Tensor.'''\n",
    "# Use tf.zeros to initialize a 4-d Tensor of zeros with size 10 x 256 x 256 x 3. \n",
    "#   You can think of this as 10 images where each image is RGB 256 x 256.\n",
    "images = tf.constant(10*[256*[256*[3*[0]]]], tf.float64)\n",
    "\n",
    "assert isinstance(images, tf.Tensor), \"matrix must be a tf Tensor object\"\n",
    "assert tf.rank(images).numpy() == 4, \"matrix must be of rank 4\"\n",
    "assert tf.shape(images).numpy().tolist() == [10, 256, 256, 3], \"matrix is incorrect shape\""
   ]
  },
  {
   "cell_type": "markdown",
   "metadata": {
    "id": "wkaCDOGapMyl"
   },
   "source": [
    "As you have seen, the ```shape``` of a Tensor provides the number of elements in each Tensor dimension. The ```shape``` is quite useful, and we'll use it often. You can also use slicing to access subtensors within a higher-rank Tensor:"
   ]
  },
  {
   "cell_type": "code",
   "execution_count": 32,
   "metadata": {
    "id": "FhaufyObuLEG"
   },
   "outputs": [
    {
     "name": "stdout",
     "output_type": "stream",
     "text": [
      "`row_vector`: [b'Love' b'Hate']\n",
      "`column_vector`: [b'Basketball' b'Hate']\n",
      "`scalar`: b'Basketball'\n"
     ]
    }
   ],
   "source": [
    "row_vector = matrix[1]\n",
    "column_vector = matrix[:,1]\n",
    "scalar = matrix[0, 1]\n",
    "\n",
    "print(\"`row_vector`: {}\".format(row_vector.numpy()))\n",
    "print(\"`column_vector`: {}\".format(column_vector.numpy()))\n",
    "print(\"`scalar`: {}\".format(scalar.numpy()))"
   ]
  },
  {
   "cell_type": "markdown",
   "metadata": {
    "id": "iD3VO-LZYZ2z"
   },
   "source": [
    "## 1.2 Computations on Tensors\n",
    "\n",
    "A convenient way to think about and visualize computations in TensorFlow is in terms of graphs. We can define this graph in terms of Tensors, which hold data, and the mathematical operations that act on these Tensors in some order. Let's look at a simple example, and define this computation using TensorFlow:\n",
    "\n",
    "![alt text](https://raw.githubusercontent.com/aamini/introtodeeplearning/master/lab1/img/add-graph.png)"
   ]
  },
  {
   "cell_type": "code",
   "execution_count": 33,
   "metadata": {
    "id": "X_YJrZsxYZ2z"
   },
   "outputs": [
    {
     "name": "stdout",
     "output_type": "stream",
     "text": [
      "tf.Tensor(76, shape=(), dtype=int32)\n",
      "tf.Tensor(76, shape=(), dtype=int32)\n"
     ]
    }
   ],
   "source": [
    "# Create the nodes in the graph, and initialize values\n",
    "a = tf.constant(15)\n",
    "b = tf.constant(61)\n",
    "\n",
    "# Add them!\n",
    "c1 = tf.add(a,b)\n",
    "c2 = a + b # TensorFlow overrides the \"+\" operation so that it is able to act on Tensors\n",
    "print(c1)\n",
    "print(c2)"
   ]
  },
  {
   "cell_type": "markdown",
   "metadata": {
    "id": "Mbfv_QOiYZ23"
   },
   "source": [
    "Notice how we've created a computation graph consisting of TensorFlow operations, and how  the output is a Tensor with value 76 -- we've just created a computation graph consisting of operations, and it's executed them and given us back the result.\n",
    "\n",
    "Now let's consider a slightly more complicated example:\n",
    "\n",
    "![alt text](https://raw.githubusercontent.com/aamini/introtodeeplearning/master/lab1/img/computation-graph.png)\n",
    "\n",
    "Here, we take two inputs, `a, b`, and compute an output `e`. Each node in the graph represents an operation that takes some input, does some computation, and passes its output to another node.\n",
    "\n",
    "Let's define a simple function in TensorFlow to construct this computation function:"
   ]
  },
  {
   "cell_type": "code",
   "execution_count": 38,
   "metadata": {
    "id": "PJnfzpWyYZ23",
    "scrolled": true
   },
   "outputs": [],
   "source": [
    "### Defining Tensor computations ###\n",
    "\n",
    "# Construct a simple computation function\n",
    "def func(a,b):\n",
    "  '''TODO: Define the operation for c, d, e (use tf.add, tf.subtract, tf.multiply).'''\n",
    "  c = tf.add(a,b)\n",
    "  d = tf.subtract(b,1)\n",
    "  e = tf.multiply(c,d)\n",
    "  return e"
   ]
  },
  {
   "cell_type": "markdown",
   "metadata": {
    "id": "AwrRfDMS2-oy"
   },
   "source": [
    "Now, we can call this function to execute the computation graph given some inputs `a,b`:"
   ]
  },
  {
   "cell_type": "code",
   "execution_count": 39,
   "metadata": {
    "id": "pnwsf8w2uF7p"
   },
   "outputs": [
    {
     "name": "stdout",
     "output_type": "stream",
     "text": [
      "tf.Tensor(6.0, shape=(), dtype=float32)\n"
     ]
    }
   ],
   "source": [
    "# Consider example values for a,b\n",
    "a, b = 1.5, 2.5\n",
    "# Execute the computation\n",
    "e_out = func(a,b)\n",
    "print(e_out)"
   ]
  },
  {
   "cell_type": "markdown",
   "metadata": {
    "id": "6HqgUIUhYZ29"
   },
   "source": [
    "Notice how our output is a Tensor with value defined by the output of the computation, and that the output has no shape as it is a single scalar value."
   ]
  },
  {
   "cell_type": "markdown",
   "metadata": {
    "id": "1h4o9Bb0YZ29"
   },
   "source": [
    "## 1.3 Neural networks in TensorFlow\n",
    "We can also define neural networks in TensorFlow. TensorFlow uses a high-level API called [Keras](https://www.tensorflow.org/guide/keras) that provides a powerful, intuitive framework for building and training deep learning models.\n",
    "\n",
    "Let's first consider the example of a simple perceptron defined by just one dense layer: $ y = \\sigma(Wx + b)$, where $W$ represents a matrix of weights, $b$ is a bias, $x$ is the input, $\\sigma$ is the sigmoid activation function, and $y$ is the output. We can also visualize this operation using a graph: \n",
    "\n",
    "![alt text](https://raw.githubusercontent.com/aamini/introtodeeplearning/master/lab1/img/computation-graph-2.png)\n",
    "\n",
    "Tensors can flow through abstract types called [```Layers```](https://www.tensorflow.org/api_docs/python/tf/keras/layers/Layer) -- the building blocks of neural networks. ```Layers``` implement common neural networks operations, and are used to update weights, compute losses, and define inter-layer connectivity. We will first define a ```Layer``` to implement the simple perceptron defined above."
   ]
  },
  {
   "cell_type": "code",
   "execution_count": 66,
   "metadata": {
    "id": "HutbJk-1kHPh"
   },
   "outputs": [
    {
     "name": "stdout",
     "output_type": "stream",
     "text": [
      "[[0.15801029 0.3455711  0.21121883]]\n"
     ]
    },
    {
     "ename": "AssertionError",
     "evalue": "\nArrays are not almost equal to 7 decimals\n[FAIL] output is of incorrect value. expected [[0.15801029 0.3455711  0.21121883]] but got [[0.2697859  0.45750418 0.66536945]]\nMismatched elements: 3 / 3 (100%)\nMax absolute difference: 0.45415062\nMax relative difference: 0.68255407\n x: array([[0.1580103, 0.3455711, 0.2112188]], dtype=float32)\n y: array([[0.2697859, 0.4575042, 0.6653695]], dtype=float32)",
     "output_type": "error",
     "traceback": [
      "\u001b[0;31m---------------------------------------------------------------------------\u001b[0m",
      "\u001b[0;31mAssertionError\u001b[0m                            Traceback (most recent call last)",
      "Cell \u001b[0;32mIn[66], line 35\u001b[0m\n\u001b[1;32m     33\u001b[0m \u001b[38;5;66;03m# test the output!\u001b[39;00m\n\u001b[1;32m     34\u001b[0m \u001b[38;5;28mprint\u001b[39m(y\u001b[38;5;241m.\u001b[39mnumpy())\n\u001b[0;32m---> 35\u001b[0m \u001b[43mlab1\u001b[49m\u001b[38;5;241;43m.\u001b[39;49m\u001b[43mtest_custom_dense_layer_output\u001b[49m\u001b[43m(\u001b[49m\u001b[43my\u001b[49m\u001b[43m)\u001b[49m\n",
      "File \u001b[0;32m/usr/local/lib/python3.11/site-packages/mitdeeplearning/lab1.py:85\u001b[0m, in \u001b[0;36mtest_custom_dense_layer_output\u001b[0;34m(y)\u001b[0m\n\u001b[1;32m     83\u001b[0m true_y \u001b[38;5;241m=\u001b[39m np\u001b[38;5;241m.\u001b[39marray([[\u001b[38;5;241m0.2697859\u001b[39m,  \u001b[38;5;241m0.45750418\u001b[39m, \u001b[38;5;241m0.66536945\u001b[39m]],dtype\u001b[38;5;241m=\u001b[39m\u001b[38;5;124m'\u001b[39m\u001b[38;5;124mfloat32\u001b[39m\u001b[38;5;124m'\u001b[39m)\n\u001b[1;32m     84\u001b[0m \u001b[38;5;28;01massert\u001b[39;00m tf\u001b[38;5;241m.\u001b[39mshape(y)\u001b[38;5;241m.\u001b[39mnumpy()\u001b[38;5;241m.\u001b[39mtolist() \u001b[38;5;241m==\u001b[39m \u001b[38;5;28mlist\u001b[39m(true_y\u001b[38;5;241m.\u001b[39mshape), \u001b[38;5;124m\"\u001b[39m\u001b[38;5;124m[FAIL] output is of incorrect shape. expected \u001b[39m\u001b[38;5;132;01m{}\u001b[39;00m\u001b[38;5;124m but got \u001b[39m\u001b[38;5;132;01m{}\u001b[39;00m\u001b[38;5;124m\"\u001b[39m\u001b[38;5;241m.\u001b[39mformat(true_y\u001b[38;5;241m.\u001b[39mshape, y\u001b[38;5;241m.\u001b[39mnumpy()\u001b[38;5;241m.\u001b[39mshape)\n\u001b[0;32m---> 85\u001b[0m \u001b[43mnp\u001b[49m\u001b[38;5;241;43m.\u001b[39;49m\u001b[43mtesting\u001b[49m\u001b[38;5;241;43m.\u001b[39;49m\u001b[43massert_almost_equal\u001b[49m\u001b[43m(\u001b[49m\u001b[43my\u001b[49m\u001b[38;5;241;43m.\u001b[39;49m\u001b[43mnumpy\u001b[49m\u001b[43m(\u001b[49m\u001b[43m)\u001b[49m\u001b[43m,\u001b[49m\u001b[43m \u001b[49m\u001b[43mtrue_y\u001b[49m\u001b[43m,\u001b[49m\u001b[43m \u001b[49m\u001b[43mdecimal\u001b[49m\u001b[38;5;241;43m=\u001b[39;49m\u001b[38;5;241;43m7\u001b[39;49m\u001b[43m,\u001b[49m\u001b[43m \u001b[49m\u001b[43merr_msg\u001b[49m\u001b[38;5;241;43m=\u001b[39;49m\u001b[38;5;124;43m\"\u001b[39;49m\u001b[38;5;124;43m[FAIL] output is of incorrect value. expected \u001b[39;49m\u001b[38;5;132;43;01m{}\u001b[39;49;00m\u001b[38;5;124;43m but got \u001b[39;49m\u001b[38;5;132;43;01m{}\u001b[39;49;00m\u001b[38;5;124;43m\"\u001b[39;49m\u001b[38;5;241;43m.\u001b[39;49m\u001b[43mformat\u001b[49m\u001b[43m(\u001b[49m\u001b[43my\u001b[49m\u001b[38;5;241;43m.\u001b[39;49m\u001b[43mnumpy\u001b[49m\u001b[43m(\u001b[49m\u001b[43m)\u001b[49m\u001b[43m,\u001b[49m\u001b[43m \u001b[49m\u001b[43mtrue_y\u001b[49m\u001b[43m)\u001b[49m\u001b[43m,\u001b[49m\u001b[43m \u001b[49m\u001b[43mverbose\u001b[49m\u001b[38;5;241;43m=\u001b[39;49m\u001b[38;5;28;43;01mTrue\u001b[39;49;00m\u001b[43m)\u001b[49m\n\u001b[1;32m     86\u001b[0m \u001b[38;5;28mprint\u001b[39m(\u001b[38;5;124m\"\u001b[39m\u001b[38;5;124m[PASS] test_custom_dense_layer_output\u001b[39m\u001b[38;5;124m\"\u001b[39m)\n\u001b[1;32m     87\u001b[0m \u001b[38;5;28;01mreturn\u001b[39;00m \u001b[38;5;28;01mTrue\u001b[39;00m\n",
      "File \u001b[0;32m/usr/local/Cellar/python@3.11/3.11.4_1/Frameworks/Python.framework/Versions/3.11/lib/python3.11/contextlib.py:81\u001b[0m, in \u001b[0;36mContextDecorator.__call__.<locals>.inner\u001b[0;34m(*args, **kwds)\u001b[0m\n\u001b[1;32m     78\u001b[0m \u001b[38;5;129m@wraps\u001b[39m(func)\n\u001b[1;32m     79\u001b[0m \u001b[38;5;28;01mdef\u001b[39;00m \u001b[38;5;21minner\u001b[39m(\u001b[38;5;241m*\u001b[39margs, \u001b[38;5;241m*\u001b[39m\u001b[38;5;241m*\u001b[39mkwds):\n\u001b[1;32m     80\u001b[0m     \u001b[38;5;28;01mwith\u001b[39;00m \u001b[38;5;28mself\u001b[39m\u001b[38;5;241m.\u001b[39m_recreate_cm():\n\u001b[0;32m---> 81\u001b[0m         \u001b[38;5;28;01mreturn\u001b[39;00m \u001b[43mfunc\u001b[49m\u001b[43m(\u001b[49m\u001b[38;5;241;43m*\u001b[39;49m\u001b[43margs\u001b[49m\u001b[43m,\u001b[49m\u001b[43m \u001b[49m\u001b[38;5;241;43m*\u001b[39;49m\u001b[38;5;241;43m*\u001b[39;49m\u001b[43mkwds\u001b[49m\u001b[43m)\u001b[49m\n",
      "    \u001b[0;31m[... skipping hidden 1 frame]\u001b[0m\n",
      "File \u001b[0;32m/usr/local/Cellar/python@3.11/3.11.4_1/Frameworks/Python.framework/Versions/3.11/lib/python3.11/contextlib.py:81\u001b[0m, in \u001b[0;36mContextDecorator.__call__.<locals>.inner\u001b[0;34m(*args, **kwds)\u001b[0m\n\u001b[1;32m     78\u001b[0m \u001b[38;5;129m@wraps\u001b[39m(func)\n\u001b[1;32m     79\u001b[0m \u001b[38;5;28;01mdef\u001b[39;00m \u001b[38;5;21minner\u001b[39m(\u001b[38;5;241m*\u001b[39margs, \u001b[38;5;241m*\u001b[39m\u001b[38;5;241m*\u001b[39mkwds):\n\u001b[1;32m     80\u001b[0m     \u001b[38;5;28;01mwith\u001b[39;00m \u001b[38;5;28mself\u001b[39m\u001b[38;5;241m.\u001b[39m_recreate_cm():\n\u001b[0;32m---> 81\u001b[0m         \u001b[38;5;28;01mreturn\u001b[39;00m \u001b[43mfunc\u001b[49m\u001b[43m(\u001b[49m\u001b[38;5;241;43m*\u001b[39;49m\u001b[43margs\u001b[49m\u001b[43m,\u001b[49m\u001b[43m \u001b[49m\u001b[38;5;241;43m*\u001b[39;49m\u001b[38;5;241;43m*\u001b[39;49m\u001b[43mkwds\u001b[49m\u001b[43m)\u001b[49m\n",
      "    \u001b[0;31m[... skipping hidden 1 frame]\u001b[0m\n",
      "File \u001b[0;32m/usr/local/Cellar/python@3.11/3.11.4_1/Frameworks/Python.framework/Versions/3.11/lib/python3.11/contextlib.py:81\u001b[0m, in \u001b[0;36mContextDecorator.__call__.<locals>.inner\u001b[0;34m(*args, **kwds)\u001b[0m\n\u001b[1;32m     78\u001b[0m \u001b[38;5;129m@wraps\u001b[39m(func)\n\u001b[1;32m     79\u001b[0m \u001b[38;5;28;01mdef\u001b[39;00m \u001b[38;5;21minner\u001b[39m(\u001b[38;5;241m*\u001b[39margs, \u001b[38;5;241m*\u001b[39m\u001b[38;5;241m*\u001b[39mkwds):\n\u001b[1;32m     80\u001b[0m     \u001b[38;5;28;01mwith\u001b[39;00m \u001b[38;5;28mself\u001b[39m\u001b[38;5;241m.\u001b[39m_recreate_cm():\n\u001b[0;32m---> 81\u001b[0m         \u001b[38;5;28;01mreturn\u001b[39;00m \u001b[43mfunc\u001b[49m\u001b[43m(\u001b[49m\u001b[38;5;241;43m*\u001b[39;49m\u001b[43margs\u001b[49m\u001b[43m,\u001b[49m\u001b[43m \u001b[49m\u001b[38;5;241;43m*\u001b[39;49m\u001b[38;5;241;43m*\u001b[39;49m\u001b[43mkwds\u001b[49m\u001b[43m)\u001b[49m\n",
      "File \u001b[0;32m/usr/local/lib/python3.11/site-packages/numpy/testing/_private/utils.py:862\u001b[0m, in \u001b[0;36massert_array_compare\u001b[0;34m(comparison, x, y, err_msg, verbose, header, precision, equal_nan, equal_inf, strict)\u001b[0m\n\u001b[1;32m    858\u001b[0m         err_msg \u001b[38;5;241m+\u001b[39m\u001b[38;5;241m=\u001b[39m \u001b[38;5;124m'\u001b[39m\u001b[38;5;130;01m\\n\u001b[39;00m\u001b[38;5;124m'\u001b[39m \u001b[38;5;241m+\u001b[39m \u001b[38;5;124m'\u001b[39m\u001b[38;5;130;01m\\n\u001b[39;00m\u001b[38;5;124m'\u001b[39m\u001b[38;5;241m.\u001b[39mjoin(remarks)\n\u001b[1;32m    859\u001b[0m         msg \u001b[38;5;241m=\u001b[39m build_err_msg([ox, oy], err_msg,\n\u001b[1;32m    860\u001b[0m                             verbose\u001b[38;5;241m=\u001b[39mverbose, header\u001b[38;5;241m=\u001b[39mheader,\n\u001b[1;32m    861\u001b[0m                             names\u001b[38;5;241m=\u001b[39m(\u001b[38;5;124m'\u001b[39m\u001b[38;5;124mx\u001b[39m\u001b[38;5;124m'\u001b[39m, \u001b[38;5;124m'\u001b[39m\u001b[38;5;124my\u001b[39m\u001b[38;5;124m'\u001b[39m), precision\u001b[38;5;241m=\u001b[39mprecision)\n\u001b[0;32m--> 862\u001b[0m         \u001b[38;5;28;01mraise\u001b[39;00m \u001b[38;5;167;01mAssertionError\u001b[39;00m(msg)\n\u001b[1;32m    863\u001b[0m \u001b[38;5;28;01mexcept\u001b[39;00m \u001b[38;5;167;01mValueError\u001b[39;00m:\n\u001b[1;32m    864\u001b[0m     \u001b[38;5;28;01mimport\u001b[39;00m \u001b[38;5;21;01mtraceback\u001b[39;00m\n",
      "\u001b[0;31mAssertionError\u001b[0m: \nArrays are not almost equal to 7 decimals\n[FAIL] output is of incorrect value. expected [[0.15801029 0.3455711  0.21121883]] but got [[0.2697859  0.45750418 0.66536945]]\nMismatched elements: 3 / 3 (100%)\nMax absolute difference: 0.45415062\nMax relative difference: 0.68255407\n x: array([[0.1580103, 0.3455711, 0.2112188]], dtype=float32)\n y: array([[0.2697859, 0.4575042, 0.6653695]], dtype=float32)"
     ]
    }
   ],
   "source": [
    "### Defining a network Layer ###\n",
    "#from mitdeeplearning.lab1 import test_custom_dense_layer_output\n",
    "# n_output_nodes: number of output nodes\n",
    "# input_shape: shape of the input\n",
    "# x: input to the layer\n",
    "\n",
    "class OurDenseLayer(tf.keras.layers.Layer):\n",
    "  def __init__(self, n_output_nodes):\n",
    "    super(OurDenseLayer, self).__init__()\n",
    "    self.n_output_nodes = n_output_nodes\n",
    "\n",
    "  def build(self, input_shape):\n",
    "    d = int(input_shape[-1])\n",
    "    # Define and initialize parameters: a weight matrix W and bias b\n",
    "    # Note that parameter initialization is random!\n",
    "    self.W = self.add_weight(\"weight\", shape=[d, self.n_output_nodes]) # note the dimensionality\n",
    "    self.b = self.add_weight(\"bias\", shape=[1, self.n_output_nodes]) # note the dimensionality\n",
    "\n",
    "  def call(self, x):\n",
    "    '''TODO: define the operation for z (hint: use tf.matmul)'''\n",
    "    z = tf.add(tf.matmul(x, self.W), self.b)\n",
    "    '''TODO: define the operation for out (hint: use tf.sigmoid)'''\n",
    "    y = tf.sigmoid(z)\n",
    "    return y\n",
    "\n",
    "# Since layer parameters are initialized randomly, we will set a random seed for reproducibility\n",
    "tf.random.set_seed(1)\n",
    "layer = OurDenseLayer(3)\n",
    "layer.build((1,2))\n",
    "x_input = tf.constant([[1,2.]], shape=(1,2))\n",
    "y = layer.call(x_input)\n",
    "\n",
    "# test the output!\n",
    "print(y.numpy())\n",
    "lab1.test_custom_dense_layer_output(y)"
   ]
  },
  {
   "cell_type": "markdown",
   "metadata": {
    "id": "Jt1FgM7qYZ3D"
   },
   "source": [
    "Conveniently, TensorFlow has defined a number of ```Layers``` that are commonly used in neural networks, for example a [```Dense```](https://www.tensorflow.org/api_docs/python/tf/keras/layers/Dense?version=stable). Now, instead of using a single ```Layer``` to define our simple neural network, we'll use the  [`Sequential`](https://www.tensorflow.org/versions/r2.0/api_docs/python/tf/keras/Sequential) model from Keras and a single [`Dense` ](https://www.tensorflow.org/versions/r2.0/api_docs/python/tf/keras/layers/Dense) layer to define our network. With the `Sequential` API, you can readily create neural networks by stacking together layers like building blocks. "
   ]
  },
  {
   "cell_type": "code",
   "execution_count": 69,
   "metadata": {
    "id": "7WXTpmoL6TDz"
   },
   "outputs": [],
   "source": [
    "### Defining a neural network using the Sequential API ###\n",
    "\n",
    "# Import relevant packages\n",
    "from tensorflow.keras import Sequential\n",
    "from tensorflow.keras.layers import Dense\n",
    "\n",
    "# Define the number of outputs\n",
    "n_output_nodes = 3\n",
    "\n",
    "# First define the model \n",
    "model = Sequential()\n",
    "\n",
    "'''TODO: Define a dense (fully connected) layer to compute z'''\n",
    "# Remember: dense layers are defined by the parameters W and b!\n",
    "# You can read more about the initialization of W and b in the TF documentation :) \n",
    "# https://www.tensorflow.org/api_docs/python/tf/keras/layers/Dense?version=stable\n",
    "dense_layer = Dense(n_output_nodes)\n",
    "\n",
    "# Add the dense layer to the model\n",
    "model.add(dense_layer)\n"
   ]
  },
  {
   "cell_type": "markdown",
   "metadata": {
    "id": "HDGcwYfUyR-U"
   },
   "source": [
    "That's it! We've defined our model using the Sequential API. Now, we can test it out using an example input:"
   ]
  },
  {
   "cell_type": "code",
   "execution_count": 80,
   "metadata": {
    "id": "sg23OczByRDb"
   },
   "outputs": [
    {
     "name": "stdout",
     "output_type": "stream",
     "text": [
      "tf.Tensor([[1. 2.]], shape=(1, 2), dtype=float32)\n",
      "1/1 [==============================] - 0s 17ms/step\n",
      "[[-0.94167423  1.9150982   1.929428  ]]\n"
     ]
    }
   ],
   "source": [
    "# Test model with example input\n",
    "x_input = tf.constant([[1,2]], shape=(1,2), dtype=tf.float32)\n",
    "print(x_input)\n",
    "'''TODO: feed input into the model and predict the output!'''\n",
    "model_output = model.predict(x_input)\n",
    "print(model_output)"
   ]
  },
  {
   "cell_type": "markdown",
   "metadata": {
    "id": "596NvsOOtr9F"
   },
   "source": [
    "In addition to defining models using the `Sequential` API, we can also define neural networks by directly subclassing the [`Model`](https://www.tensorflow.org/api_docs/python/tf/keras/Model?version=stable) class, which groups layers together to enable model training and inference. The `Model` class captures what we refer to as a \"model\" or as a \"network\". Using Subclassing, we can create a class for our model, and then define the forward pass through the network using the `call` function. Subclassing affords the flexibility to define custom layers, custom training loops, custom activation functions, and custom models. Let's define the same neural network as above now using Subclassing rather than the `Sequential` model."
   ]
  },
  {
   "cell_type": "code",
   "execution_count": 81,
   "metadata": {
    "id": "K4aCflPVyViD"
   },
   "outputs": [],
   "source": [
    "### Defining a model using subclassing ###\n",
    "\n",
    "from tensorflow.keras import Model\n",
    "from tensorflow.keras.layers import Dense\n",
    "\n",
    "class SubclassModel(tf.keras.Model):\n",
    "\n",
    "  # In __init__, we define the Model's layers\n",
    "  def __init__(self, n_output_nodes):\n",
    "    super(SubclassModel, self).__init__()\n",
    "    '''TODO: Our model consists of a single Dense layer. Define this layer.''' \n",
    "    self.dense_layer = Dense(n_output_nodes)\n",
    "\n",
    "  # In the call function, we define the Model's forward pass.\n",
    "  def call(self, inputs):\n",
    "    return self.dense_layer(inputs)"
   ]
  },
  {
   "cell_type": "markdown",
   "metadata": {
    "id": "U0-lwHDk4irB"
   },
   "source": [
    "Just like the model we built using the `Sequential` API, let's test out our `SubclassModel` using an example input.\n",
    "\n"
   ]
  },
  {
   "cell_type": "code",
   "execution_count": 84,
   "metadata": {
    "id": "LhB34RA-4gXb"
   },
   "outputs": [
    {
     "name": "stdout",
     "output_type": "stream",
     "text": [
      "tf.Tensor([[ 1.9087253 -2.4697027 -1.7851474]], shape=(1, 3), dtype=float32)\n"
     ]
    }
   ],
   "source": [
    "n_output_nodes = 3\n",
    "model = SubclassModel(n_output_nodes)\n",
    "\n",
    "x_input = tf.constant([[1,2.]], shape=(1,2))\n",
    "\n",
    "print(model.call(x_input))"
   ]
  },
  {
   "cell_type": "markdown",
   "metadata": {
    "id": "HTIFMJLAzsyE"
   },
   "source": [
    "Importantly, Subclassing affords us a lot of flexibility to define custom models. For example, we can use boolean arguments in the `call` function to specify different network behaviors, for example different behaviors during training and inference. Let's suppose under some instances we want our network to simply output the input, without any perturbation. We define a boolean argument `isidentity` to control this behavior:"
   ]
  },
  {
   "cell_type": "code",
   "execution_count": 86,
   "metadata": {
    "id": "P7jzGX5D1xT5"
   },
   "outputs": [],
   "source": [
    "### Defining a model using subclassing and specifying custom behavior ###\n",
    "\n",
    "from tensorflow.keras import Model\n",
    "from tensorflow.keras.layers import Dense\n",
    "\n",
    "class IdentityModel(tf.keras.Model):\n",
    "\n",
    "  # As before, in __init__ we define the Model's layers\n",
    "  # Since our desired behavior involves the forward pass, this part is unchanged\n",
    "  def __init__(self, n_output_nodes):\n",
    "    super(IdentityModel, self).__init__()\n",
    "    self.dense_layer = tf.keras.layers.Dense(n_output_nodes, activation='sigmoid')\n",
    "\n",
    "  '''TODO: Implement the behavior where the network outputs the input, unchanged, \n",
    "      under control of the isidentity argument.'''\n",
    "  def call(self, inputs, isidentity=False):\n",
    "    x = self.dense_layer(inputs)\n",
    "    if isidentity:\n",
    "        return inputs\n",
    "    else:\n",
    "        return x\n",
    "    '''TODO: Implement identity behavior'''"
   ]
  },
  {
   "cell_type": "markdown",
   "metadata": {
    "id": "Ku4rcCGx5T3y"
   },
   "source": [
    "Let's test this behavior:"
   ]
  },
  {
   "cell_type": "code",
   "execution_count": 87,
   "metadata": {
    "id": "NzC0mgbk5dp2"
   },
   "outputs": [
    {
     "name": "stdout",
     "output_type": "stream",
     "text": [
      "Network output with activation: [[0.86662334 0.18546209 0.5930799 ]]; network identity output: [[1. 2.]]\n"
     ]
    }
   ],
   "source": [
    "n_output_nodes = 3\n",
    "model = IdentityModel(n_output_nodes)\n",
    "\n",
    "x_input = tf.constant([[1,2.]], shape=(1,2))\n",
    "'''TODO: pass the input into the model and call with and without the input identity option.'''\n",
    "out_activate = model.call(x_input, isidentity=False)\n",
    "out_identity = model.call(x_input, isidentity=True)\n",
    "\n",
    "print(\"Network output with activation: {}; network identity output: {}\".format(out_activate.numpy(), out_identity.numpy()))"
   ]
  },
  {
   "cell_type": "markdown",
   "metadata": {
    "id": "7V1dEqdk6VI5"
   },
   "source": [
    "Now that we have learned how to define `Layers` as well as neural networks in TensorFlow using both the `Sequential` and Subclassing APIs, we're ready to turn our attention to how to actually implement network training with backpropagation."
   ]
  },
  {
   "cell_type": "markdown",
   "metadata": {
    "id": "dQwDhKn8kbO2"
   },
   "source": [
    "## 1.4 Automatic differentiation in TensorFlow\n",
    "\n",
    "[Automatic differentiation](https://en.wikipedia.org/wiki/Automatic_differentiation)\n",
    "is one of the most important parts of TensorFlow and is the backbone of training with \n",
    "[backpropagation](https://en.wikipedia.org/wiki/Backpropagation). We will use the TensorFlow GradientTape [`tf.GradientTape`](https://www.tensorflow.org/api_docs/python/tf/GradientTape?version=stable) to trace operations for computing gradients later. \n",
    "\n",
    "When a forward pass is made through the network, all forward-pass operations get recorded to a \"tape\"; then, to compute the gradient, the tape is played backwards. By default, the tape is discarded after it is played backwards; this means that a particular `tf.GradientTape` can only\n",
    "compute one gradient, and subsequent calls throw a runtime error. However, we can compute multiple gradients over the same computation by creating a ```persistent``` gradient tape. \n",
    "\n",
    "First, we will look at how we can compute gradients using GradientTape and access them for computation. We define the simple function $ y = x^2$ and compute the gradient:"
   ]
  },
  {
   "cell_type": "code",
   "execution_count": 88,
   "metadata": {
    "id": "tdkqk8pw5yJM"
   },
   "outputs": [],
   "source": [
    "### Gradient computation with GradientTape ###\n",
    "\n",
    "# y = x^2\n",
    "# Example: x = 3.0\n",
    "x = tf.Variable(3.0)\n",
    "\n",
    "# Initiate the gradient tape\n",
    "with tf.GradientTape() as tape:\n",
    "  # Define the function\n",
    "  y = x * x\n",
    "# Access the gradient -- derivative of y with respect to x\n",
    "dy_dx = tape.gradient(y, x)\n",
    "\n",
    "assert dy_dx.numpy() == 6.0"
   ]
  },
  {
   "cell_type": "markdown",
   "metadata": {
    "id": "JhU5metS5xF3"
   },
   "source": [
    "In training neural networks, we use differentiation and stochastic gradient descent (SGD) to optimize a loss function. Now that we have a sense of how `GradientTape` can be used to compute and access derivatives, we will look at an example where we use automatic differentiation and SGD to find the minimum of $L=(x-x_f)^2$. Here $x_f$ is a variable for a desired value we are trying to optimize for; $L$ represents a loss that we are trying to  minimize. While we can clearly solve this problem analytically ($x_{min}=x_f$), considering how we can compute this using `GradientTape` sets us up nicely for future labs where we use gradient descent to optimize entire neural network losses."
   ]
  },
  {
   "cell_type": "code",
   "execution_count": 95,
   "metadata": {
    "attributes": {
     "classes": [
      "py"
     ],
     "id": ""
    },
    "id": "7g1yWiSXqEf-"
   },
   "outputs": [
    {
     "name": "stdout",
     "output_type": "stream",
     "text": [
      "Initializing x=[[-0.00839665]]\n",
      "tf.Tensor([[16.067244]], shape=(1, 1), dtype=float32)\n",
      "tf.Tensor([[15.43098]], shape=(1, 1), dtype=float32)\n",
      "tf.Tensor([[14.819915]], shape=(1, 1), dtype=float32)\n",
      "tf.Tensor([[14.233045]], shape=(1, 1), dtype=float32)\n",
      "tf.Tensor([[13.669417]], shape=(1, 1), dtype=float32)\n",
      "tf.Tensor([[13.128108]], shape=(1, 1), dtype=float32)\n",
      "tf.Tensor([[12.608235]], shape=(1, 1), dtype=float32)\n",
      "tf.Tensor([[12.10895]], shape=(1, 1), dtype=float32)\n",
      "tf.Tensor([[11.629436]], shape=(1, 1), dtype=float32)\n",
      "tf.Tensor([[11.16891]], shape=(1, 1), dtype=float32)\n",
      "tf.Tensor([[10.726621]], shape=(1, 1), dtype=float32)\n",
      "tf.Tensor([[10.301846]], shape=(1, 1), dtype=float32)\n",
      "tf.Tensor([[9.893892]], shape=(1, 1), dtype=float32)\n",
      "tf.Tensor([[9.502094]], shape=(1, 1), dtype=float32)\n",
      "tf.Tensor([[9.125813]], shape=(1, 1), dtype=float32)\n",
      "tf.Tensor([[8.764429]], shape=(1, 1), dtype=float32)\n",
      "tf.Tensor([[8.417358]], shape=(1, 1), dtype=float32)\n",
      "tf.Tensor([[8.084031]], shape=(1, 1), dtype=float32)\n",
      "tf.Tensor([[7.763903]], shape=(1, 1), dtype=float32)\n",
      "tf.Tensor([[7.456452]], shape=(1, 1), dtype=float32)\n",
      "tf.Tensor([[7.161177]], shape=(1, 1), dtype=float32)\n",
      "tf.Tensor([[6.8775935]], shape=(1, 1), dtype=float32)\n",
      "tf.Tensor([[6.605242]], shape=(1, 1), dtype=float32)\n",
      "tf.Tensor([[6.3436737]], shape=(1, 1), dtype=float32)\n",
      "tf.Tensor([[6.0924644]], shape=(1, 1), dtype=float32)\n",
      "tf.Tensor([[5.851202]], shape=(1, 1), dtype=float32)\n",
      "tf.Tensor([[5.6194944]], shape=(1, 1), dtype=float32)\n",
      "tf.Tensor([[5.3969626]], shape=(1, 1), dtype=float32)\n",
      "tf.Tensor([[5.1832438]], shape=(1, 1), dtype=float32)\n",
      "tf.Tensor([[4.9779863]], shape=(1, 1), dtype=float32)\n",
      "tf.Tensor([[4.7808585]], shape=(1, 1), dtype=float32)\n",
      "tf.Tensor([[4.591536]], shape=(1, 1), dtype=float32)\n",
      "tf.Tensor([[4.4097114]], shape=(1, 1), dtype=float32)\n",
      "tf.Tensor([[4.2350874]], shape=(1, 1), dtype=float32)\n",
      "tf.Tensor([[4.067378]], shape=(1, 1), dtype=float32)\n",
      "tf.Tensor([[3.9063091]], shape=(1, 1), dtype=float32)\n",
      "tf.Tensor([[3.751619]], shape=(1, 1), dtype=float32)\n",
      "tf.Tensor([[3.6030548]], shape=(1, 1), dtype=float32)\n",
      "tf.Tensor([[3.4603739]], shape=(1, 1), dtype=float32)\n",
      "tf.Tensor([[3.3233428]], shape=(1, 1), dtype=float32)\n",
      "tf.Tensor([[3.1917381]], shape=(1, 1), dtype=float32)\n",
      "tf.Tensor([[3.0653453]], shape=(1, 1), dtype=float32)\n",
      "tf.Tensor([[2.9439576]], shape=(1, 1), dtype=float32)\n",
      "tf.Tensor([[2.827377]], shape=(1, 1), dtype=float32)\n",
      "tf.Tensor([[2.7154129]], shape=(1, 1), dtype=float32)\n",
      "tf.Tensor([[2.6078823]], shape=(1, 1), dtype=float32)\n",
      "tf.Tensor([[2.5046103]], shape=(1, 1), dtype=float32)\n",
      "tf.Tensor([[2.4054275]], shape=(1, 1), dtype=float32)\n",
      "tf.Tensor([[2.3101723]], shape=(1, 1), dtype=float32)\n",
      "tf.Tensor([[2.2186892]], shape=(1, 1), dtype=float32)\n",
      "tf.Tensor([[2.1308289]], shape=(1, 1), dtype=float32)\n",
      "tf.Tensor([[2.0464478]], shape=(1, 1), dtype=float32)\n",
      "tf.Tensor([[1.9654087]], shape=(1, 1), dtype=float32)\n",
      "tf.Tensor([[1.8875787]], shape=(1, 1), dtype=float32)\n",
      "tf.Tensor([[1.8128309]], shape=(1, 1), dtype=float32)\n",
      "tf.Tensor([[1.7410431]], shape=(1, 1), dtype=float32)\n",
      "tf.Tensor([[1.6720974]], shape=(1, 1), dtype=float32)\n",
      "tf.Tensor([[1.6058823]], shape=(1, 1), dtype=float32)\n",
      "tf.Tensor([[1.5422895]], shape=(1, 1), dtype=float32)\n",
      "tf.Tensor([[1.481215]], shape=(1, 1), dtype=float32)\n",
      "tf.Tensor([[1.4225587]], shape=(1, 1), dtype=float32)\n",
      "tf.Tensor([[1.3662252]], shape=(1, 1), dtype=float32)\n",
      "tf.Tensor([[1.3121226]], shape=(1, 1), dtype=float32)\n",
      "tf.Tensor([[1.2601625]], shape=(1, 1), dtype=float32)\n",
      "tf.Tensor([[1.2102599]], shape=(1, 1), dtype=float32)\n",
      "tf.Tensor([[1.1623335]], shape=(1, 1), dtype=float32)\n",
      "tf.Tensor([[1.116305]], shape=(1, 1), dtype=float32)\n",
      "tf.Tensor([[1.0720994]], shape=(1, 1), dtype=float32)\n",
      "tf.Tensor([[1.029644]], shape=(1, 1), dtype=float32)\n",
      "tf.Tensor([[0.98887026]], shape=(1, 1), dtype=float32)\n",
      "tf.Tensor([[0.949711]], shape=(1, 1), dtype=float32)\n",
      "tf.Tensor([[0.9121023]], shape=(1, 1), dtype=float32)\n",
      "tf.Tensor([[0.8759828]], shape=(1, 1), dtype=float32)\n",
      "tf.Tensor([[0.84129405]], shape=(1, 1), dtype=float32)\n",
      "tf.Tensor([[0.8079788]], shape=(1, 1), dtype=float32)\n",
      "tf.Tensor([[0.775983]], shape=(1, 1), dtype=float32)\n",
      "tf.Tensor([[0.7452541]], shape=(1, 1), dtype=float32)\n",
      "tf.Tensor([[0.7157422]], shape=(1, 1), dtype=float32)\n",
      "tf.Tensor([[0.68739873]], shape=(1, 1), dtype=float32)\n",
      "tf.Tensor([[0.6601776]], shape=(1, 1), dtype=float32)\n",
      "tf.Tensor([[0.63403434]], shape=(1, 1), dtype=float32)\n",
      "tf.Tensor([[0.6089267]], shape=(1, 1), dtype=float32)\n",
      "tf.Tensor([[0.5848134]], shape=(1, 1), dtype=float32)\n",
      "tf.Tensor([[0.56165487]], shape=(1, 1), dtype=float32)\n",
      "tf.Tensor([[0.53941345]], shape=(1, 1), dtype=float32)\n",
      "tf.Tensor([[0.51805264]], shape=(1, 1), dtype=float32)\n",
      "tf.Tensor([[0.49753767]], shape=(1, 1), dtype=float32)\n",
      "tf.Tensor([[0.47783524]], shape=(1, 1), dtype=float32)\n",
      "tf.Tensor([[0.4589129]], shape=(1, 1), dtype=float32)\n",
      "tf.Tensor([[0.44073996]], shape=(1, 1), dtype=float32)\n",
      "tf.Tensor([[0.4232865]], shape=(1, 1), dtype=float32)\n",
      "tf.Tensor([[0.40652427]], shape=(1, 1), dtype=float32)\n",
      "tf.Tensor([[0.39042595]], shape=(1, 1), dtype=float32)\n",
      "tf.Tensor([[0.37496522]], shape=(1, 1), dtype=float32)\n",
      "tf.Tensor([[0.36011663]], shape=(1, 1), dtype=float32)\n",
      "tf.Tensor([[0.34585595]], shape=(1, 1), dtype=float32)\n",
      "tf.Tensor([[0.33216006]], shape=(1, 1), dtype=float32)\n",
      "tf.Tensor([[0.31900662]], shape=(1, 1), dtype=float32)\n",
      "tf.Tensor([[0.30637404]], shape=(1, 1), dtype=float32)\n",
      "tf.Tensor([[0.2942416]], shape=(1, 1), dtype=float32)\n",
      "tf.Tensor([[0.28258967]], shape=(1, 1), dtype=float32)\n",
      "tf.Tensor([[0.27139917]], shape=(1, 1), dtype=float32)\n",
      "tf.Tensor([[0.26065183]], shape=(1, 1), dtype=float32)\n",
      "tf.Tensor([[0.2503301]], shape=(1, 1), dtype=float32)\n",
      "tf.Tensor([[0.24041694]], shape=(1, 1), dtype=float32)\n",
      "tf.Tensor([[0.2308965]], shape=(1, 1), dtype=float32)\n",
      "tf.Tensor([[0.22175293]], shape=(1, 1), dtype=float32)\n",
      "tf.Tensor([[0.2129714]], shape=(1, 1), dtype=float32)\n",
      "tf.Tensor([[0.20453782]], shape=(1, 1), dtype=float32)\n",
      "tf.Tensor([[0.19643818]], shape=(1, 1), dtype=float32)\n",
      "tf.Tensor([[0.18865931]], shape=(1, 1), dtype=float32)\n",
      "tf.Tensor([[0.18118837]], shape=(1, 1), dtype=float32)\n",
      "tf.Tensor([[0.17401335]], shape=(1, 1), dtype=float32)\n",
      "tf.Tensor([[0.16712241]], shape=(1, 1), dtype=float32)\n",
      "tf.Tensor([[0.1605044]], shape=(1, 1), dtype=float32)\n",
      "tf.Tensor([[0.15414847]], shape=(1, 1), dtype=float32)\n",
      "tf.Tensor([[0.14804421]], shape=(1, 1), dtype=float32)\n",
      "tf.Tensor([[0.14218175]], shape=(1, 1), dtype=float32)\n",
      "tf.Tensor([[0.13655134]], shape=(1, 1), dtype=float32)\n",
      "tf.Tensor([[0.13114396]], shape=(1, 1), dtype=float32)\n",
      "tf.Tensor([[0.12595071]], shape=(1, 1), dtype=float32)\n",
      "tf.Tensor([[0.12096303]], shape=(1, 1), dtype=float32)\n",
      "tf.Tensor([[0.11617295]], shape=(1, 1), dtype=float32)\n",
      "tf.Tensor([[0.11157248]], shape=(1, 1), dtype=float32)\n",
      "tf.Tensor([[0.10715421]], shape=(1, 1), dtype=float32)\n",
      "tf.Tensor([[0.10291085]], shape=(1, 1), dtype=float32)\n",
      "tf.Tensor([[0.09883564]], shape=(1, 1), dtype=float32)\n",
      "tf.Tensor([[0.09492178]], shape=(1, 1), dtype=float32)\n",
      "tf.Tensor([[0.09116285]], shape=(1, 1), dtype=float32)\n",
      "tf.Tensor([[0.08755278]], shape=(1, 1), dtype=float32)\n",
      "tf.Tensor([[0.08408573]], shape=(1, 1), dtype=float32)\n",
      "tf.Tensor([[0.08075593]], shape=(1, 1), dtype=float32)\n",
      "tf.Tensor([[0.07755805]], shape=(1, 1), dtype=float32)\n",
      "tf.Tensor([[0.0744867]], shape=(1, 1), dtype=float32)\n",
      "tf.Tensor([[0.07153708]], shape=(1, 1), dtype=float32)\n",
      "tf.Tensor([[0.06870415]], shape=(1, 1), dtype=float32)\n",
      "tf.Tensor([[0.06598344]], shape=(1, 1), dtype=float32)\n",
      "tf.Tensor([[0.0633705]], shape=(1, 1), dtype=float32)\n",
      "tf.Tensor([[0.06086103]], shape=(1, 1), dtype=float32)\n",
      "tf.Tensor([[0.0584509]], shape=(1, 1), dtype=float32)\n",
      "tf.Tensor([[0.05613623]], shape=(1, 1), dtype=float32)\n",
      "tf.Tensor([[0.05391325]], shape=(1, 1), dtype=float32)\n",
      "tf.Tensor([[0.05177826]], shape=(1, 1), dtype=float32)\n",
      "tf.Tensor([[0.04972785]], shape=(1, 1), dtype=float32)\n",
      "tf.Tensor([[0.04775867]], shape=(1, 1), dtype=float32)\n",
      "tf.Tensor([[0.04586745]], shape=(1, 1), dtype=float32)\n",
      "tf.Tensor([[0.04405106]], shape=(1, 1), dtype=float32)\n",
      "tf.Tensor([[0.04230667]], shape=(1, 1), dtype=float32)\n",
      "tf.Tensor([[0.04063134]], shape=(1, 1), dtype=float32)\n",
      "tf.Tensor([[0.03902235]], shape=(1, 1), dtype=float32)\n",
      "tf.Tensor([[0.03747706]], shape=(1, 1), dtype=float32)\n",
      "tf.Tensor([[0.03599301]], shape=(1, 1), dtype=float32)\n",
      "tf.Tensor([[0.03456767]], shape=(1, 1), dtype=float32)\n",
      "tf.Tensor([[0.03319882]], shape=(1, 1), dtype=float32)\n",
      "tf.Tensor([[0.03188411]], shape=(1, 1), dtype=float32)\n",
      "tf.Tensor([[0.03062148]], shape=(1, 1), dtype=float32)\n",
      "tf.Tensor([[0.02940889]], shape=(1, 1), dtype=float32)\n",
      "tf.Tensor([[0.02824426]], shape=(1, 1), dtype=float32)\n",
      "tf.Tensor([[0.02712579]], shape=(1, 1), dtype=float32)\n",
      "tf.Tensor([[0.0260516]], shape=(1, 1), dtype=float32)\n",
      "tf.Tensor([[0.02501993]], shape=(1, 1), dtype=float32)\n",
      "tf.Tensor([[0.02402913]], shape=(1, 1), dtype=float32)\n",
      "tf.Tensor([[0.02307761]], shape=(1, 1), dtype=float32)\n",
      "tf.Tensor([[0.02216377]], shape=(1, 1), dtype=float32)\n",
      "tf.Tensor([[0.02128605]], shape=(1, 1), dtype=float32)\n",
      "tf.Tensor([[0.0204431]], shape=(1, 1), dtype=float32)\n",
      "tf.Tensor([[0.01963356]], shape=(1, 1), dtype=float32)\n",
      "tf.Tensor([[0.01885607]], shape=(1, 1), dtype=float32)\n",
      "tf.Tensor([[0.01810937]], shape=(1, 1), dtype=float32)\n",
      "tf.Tensor([[0.01739222]], shape=(1, 1), dtype=float32)\n",
      "tf.Tensor([[0.01670348]], shape=(1, 1), dtype=float32)\n",
      "tf.Tensor([[0.016042]], shape=(1, 1), dtype=float32)\n",
      "tf.Tensor([[0.01540672]], shape=(1, 1), dtype=float32)\n",
      "tf.Tensor([[0.01479663]], shape=(1, 1), dtype=float32)\n",
      "tf.Tensor([[0.01421068]], shape=(1, 1), dtype=float32)\n",
      "tf.Tensor([[0.01364794]], shape=(1, 1), dtype=float32)\n",
      "tf.Tensor([[0.01310748]], shape=(1, 1), dtype=float32)\n",
      "tf.Tensor([[0.01258842]], shape=(1, 1), dtype=float32)\n",
      "tf.Tensor([[0.01208991]], shape=(1, 1), dtype=float32)\n",
      "tf.Tensor([[0.01161113]], shape=(1, 1), dtype=float32)\n",
      "tf.Tensor([[0.01115133]], shape=(1, 1), dtype=float32)\n",
      "tf.Tensor([[0.01070976]], shape=(1, 1), dtype=float32)\n",
      "tf.Tensor([[0.01028566]], shape=(1, 1), dtype=float32)\n",
      "tf.Tensor([[0.00987833]], shape=(1, 1), dtype=float32)\n",
      "tf.Tensor([[0.00948717]], shape=(1, 1), dtype=float32)\n",
      "tf.Tensor([[0.00911146]], shape=(1, 1), dtype=float32)\n",
      "tf.Tensor([[0.00875066]], shape=(1, 1), dtype=float32)\n",
      "tf.Tensor([[0.00840414]], shape=(1, 1), dtype=float32)\n",
      "tf.Tensor([[0.00807134]], shape=(1, 1), dtype=float32)\n",
      "tf.Tensor([[0.00775173]], shape=(1, 1), dtype=float32)\n",
      "tf.Tensor([[0.00744475]], shape=(1, 1), dtype=float32)\n",
      "tf.Tensor([[0.00714994]], shape=(1, 1), dtype=float32)\n",
      "tf.Tensor([[0.00686681]], shape=(1, 1), dtype=float32)\n",
      "tf.Tensor([[0.00659489]], shape=(1, 1), dtype=float32)\n",
      "tf.Tensor([[0.00633375]], shape=(1, 1), dtype=float32)\n",
      "tf.Tensor([[0.00608293]], shape=(1, 1), dtype=float32)\n",
      "tf.Tensor([[0.00584203]], shape=(1, 1), dtype=float32)\n",
      "tf.Tensor([[0.00561068]], shape=(1, 1), dtype=float32)\n",
      "tf.Tensor([[0.00538851]], shape=(1, 1), dtype=float32)\n",
      "tf.Tensor([[0.00517512]], shape=(1, 1), dtype=float32)\n",
      "tf.Tensor([[0.00497017]], shape=(1, 1), dtype=float32)\n",
      "tf.Tensor([[0.00477335]], shape=(1, 1), dtype=float32)\n",
      "tf.Tensor([[0.00458431]], shape=(1, 1), dtype=float32)\n",
      "tf.Tensor([[0.00440276]], shape=(1, 1), dtype=float32)\n",
      "tf.Tensor([[0.00422842]], shape=(1, 1), dtype=float32)\n",
      "tf.Tensor([[0.00406097]], shape=(1, 1), dtype=float32)\n",
      "tf.Tensor([[0.00390014]], shape=(1, 1), dtype=float32)\n",
      "tf.Tensor([[0.00374569]], shape=(1, 1), dtype=float32)\n",
      "tf.Tensor([[0.00359736]], shape=(1, 1), dtype=float32)\n",
      "tf.Tensor([[0.00345492]], shape=(1, 1), dtype=float32)\n",
      "tf.Tensor([[0.00331809]], shape=(1, 1), dtype=float32)\n",
      "tf.Tensor([[0.0031867]], shape=(1, 1), dtype=float32)\n",
      "tf.Tensor([[0.00306052]], shape=(1, 1), dtype=float32)\n",
      "tf.Tensor([[0.00293931]], shape=(1, 1), dtype=float32)\n",
      "tf.Tensor([[0.00282291]], shape=(1, 1), dtype=float32)\n",
      "tf.Tensor([[0.00271113]], shape=(1, 1), dtype=float32)\n",
      "tf.Tensor([[0.00260376]], shape=(1, 1), dtype=float32)\n",
      "tf.Tensor([[0.00250066]], shape=(1, 1), dtype=float32)\n",
      "tf.Tensor([[0.00240163]], shape=(1, 1), dtype=float32)\n",
      "tf.Tensor([[0.00230653]], shape=(1, 1), dtype=float32)\n",
      "tf.Tensor([[0.00221518]], shape=(1, 1), dtype=float32)\n",
      "tf.Tensor([[0.00212747]], shape=(1, 1), dtype=float32)\n",
      "tf.Tensor([[0.00204322]], shape=(1, 1), dtype=float32)\n",
      "tf.Tensor([[0.00196231]], shape=(1, 1), dtype=float32)\n",
      "tf.Tensor([[0.0018846]], shape=(1, 1), dtype=float32)\n",
      "tf.Tensor([[0.00180996]], shape=(1, 1), dtype=float32)\n",
      "tf.Tensor([[0.00173828]], shape=(1, 1), dtype=float32)\n",
      "tf.Tensor([[0.00166946]], shape=(1, 1), dtype=float32)\n",
      "tf.Tensor([[0.00160336]], shape=(1, 1), dtype=float32)\n",
      "tf.Tensor([[0.00153986]], shape=(1, 1), dtype=float32)\n",
      "tf.Tensor([[0.00147888]], shape=(1, 1), dtype=float32)\n",
      "tf.Tensor([[0.00142031]], shape=(1, 1), dtype=float32)\n",
      "tf.Tensor([[0.00136408]], shape=(1, 1), dtype=float32)\n",
      "tf.Tensor([[0.00131006]], shape=(1, 1), dtype=float32)\n",
      "tf.Tensor([[0.00125819]], shape=(1, 1), dtype=float32)\n",
      "tf.Tensor([[0.00120836]], shape=(1, 1), dtype=float32)\n",
      "tf.Tensor([[0.00116051]], shape=(1, 1), dtype=float32)\n",
      "tf.Tensor([[0.00111454]], shape=(1, 1), dtype=float32)\n",
      "tf.Tensor([[0.0010704]], shape=(1, 1), dtype=float32)\n",
      "tf.Tensor([[0.00102801]], shape=(1, 1), dtype=float32)\n",
      "tf.Tensor([[0.00098729]], shape=(1, 1), dtype=float32)\n",
      "tf.Tensor([[0.00094819]], shape=(1, 1), dtype=float32)\n",
      "tf.Tensor([[0.00091064]], shape=(1, 1), dtype=float32)\n",
      "tf.Tensor([[0.00087459]], shape=(1, 1), dtype=float32)\n",
      "tf.Tensor([[0.00083995]], shape=(1, 1), dtype=float32)\n",
      "tf.Tensor([[0.00080669]], shape=(1, 1), dtype=float32)\n",
      "tf.Tensor([[0.00077474]], shape=(1, 1), dtype=float32)\n",
      "tf.Tensor([[0.00074406]], shape=(1, 1), dtype=float32)\n",
      "tf.Tensor([[0.0007146]], shape=(1, 1), dtype=float32)\n",
      "tf.Tensor([[0.00068631]], shape=(1, 1), dtype=float32)\n",
      "tf.Tensor([[0.00065912]], shape=(1, 1), dtype=float32)\n",
      "tf.Tensor([[0.00063302]], shape=(1, 1), dtype=float32)\n",
      "tf.Tensor([[0.00060794]], shape=(1, 1), dtype=float32)\n",
      "tf.Tensor([[0.00058387]], shape=(1, 1), dtype=float32)\n",
      "tf.Tensor([[0.00056075]], shape=(1, 1), dtype=float32)\n",
      "tf.Tensor([[0.00053855]], shape=(1, 1), dtype=float32)\n",
      "tf.Tensor([[0.00051722]], shape=(1, 1), dtype=float32)\n",
      "tf.Tensor([[0.00049674]], shape=(1, 1), dtype=float32)\n",
      "tf.Tensor([[0.00047706]], shape=(1, 1), dtype=float32)\n",
      "tf.Tensor([[0.00045817]], shape=(1, 1), dtype=float32)\n",
      "tf.Tensor([[0.00044003]], shape=(1, 1), dtype=float32)\n",
      "tf.Tensor([[0.0004226]], shape=(1, 1), dtype=float32)\n",
      "tf.Tensor([[0.00040587]], shape=(1, 1), dtype=float32)\n",
      "tf.Tensor([[0.00038979]], shape=(1, 1), dtype=float32)\n",
      "tf.Tensor([[0.00037436]], shape=(1, 1), dtype=float32)\n",
      "tf.Tensor([[0.00035954]], shape=(1, 1), dtype=float32)\n",
      "tf.Tensor([[0.00034529]], shape=(1, 1), dtype=float32)\n",
      "tf.Tensor([[0.00033162]], shape=(1, 1), dtype=float32)\n",
      "tf.Tensor([[0.00031848]], shape=(1, 1), dtype=float32)\n",
      "tf.Tensor([[0.00030587]], shape=(1, 1), dtype=float32)\n",
      "tf.Tensor([[0.00029376]], shape=(1, 1), dtype=float32)\n",
      "tf.Tensor([[0.00028213]], shape=(1, 1), dtype=float32)\n",
      "tf.Tensor([[0.00027095]], shape=(1, 1), dtype=float32)\n",
      "tf.Tensor([[0.00026022]], shape=(1, 1), dtype=float32)\n",
      "tf.Tensor([[0.00024992]], shape=(1, 1), dtype=float32)\n",
      "tf.Tensor([[0.00024002]], shape=(1, 1), dtype=float32)\n",
      "tf.Tensor([[0.00023052]], shape=(1, 1), dtype=float32)\n",
      "tf.Tensor([[0.00022138]], shape=(1, 1), dtype=float32)\n",
      "tf.Tensor([[0.00021262]], shape=(1, 1), dtype=float32)\n",
      "tf.Tensor([[0.0002042]], shape=(1, 1), dtype=float32)\n",
      "tf.Tensor([[0.00019611]], shape=(1, 1), dtype=float32)\n",
      "tf.Tensor([[0.00018834]], shape=(1, 1), dtype=float32)\n",
      "tf.Tensor([[0.00018089]], shape=(1, 1), dtype=float32)\n",
      "tf.Tensor([[0.00017373]], shape=(1, 1), dtype=float32)\n",
      "tf.Tensor([[0.00016684]], shape=(1, 1), dtype=float32)\n",
      "tf.Tensor([[0.00016023]], shape=(1, 1), dtype=float32)\n",
      "tf.Tensor([[0.00015389]], shape=(1, 1), dtype=float32)\n",
      "tf.Tensor([[0.00014779]], shape=(1, 1), dtype=float32)\n",
      "tf.Tensor([[0.00014194]], shape=(1, 1), dtype=float32)\n",
      "tf.Tensor([[0.00013632]], shape=(1, 1), dtype=float32)\n",
      "tf.Tensor([[0.00013092]], shape=(1, 1), dtype=float32)\n",
      "tf.Tensor([[0.00012574]], shape=(1, 1), dtype=float32)\n",
      "tf.Tensor([[0.00012076]], shape=(1, 1), dtype=float32)\n",
      "tf.Tensor([[0.00011597]], shape=(1, 1), dtype=float32)\n",
      "tf.Tensor([[0.00011138]], shape=(1, 1), dtype=float32)\n",
      "tf.Tensor([[0.00010697]], shape=(1, 1), dtype=float32)\n",
      "tf.Tensor([[0.00010274]], shape=(1, 1), dtype=float32)\n",
      "tf.Tensor([[9.866912e-05]], shape=(1, 1), dtype=float32)\n",
      "tf.Tensor([[9.476303e-05]], shape=(1, 1), dtype=float32)\n",
      "tf.Tensor([[9.1008595e-05]], shape=(1, 1), dtype=float32)\n",
      "tf.Tensor([[8.740582e-05]], shape=(1, 1), dtype=float32)\n",
      "tf.Tensor([[8.3945684e-05]], shape=(1, 1), dtype=float32)\n",
      "tf.Tensor([[8.061963e-05]], shape=(1, 1), dtype=float32)\n",
      "tf.Tensor([[7.742793e-05]], shape=(1, 1), dtype=float32)\n",
      "tf.Tensor([[7.436237e-05]], shape=(1, 1), dtype=float32)\n",
      "tf.Tensor([[7.141915e-05]], shape=(1, 1), dtype=float32)\n",
      "tf.Tensor([[6.8590634e-05]], shape=(1, 1), dtype=float32)\n",
      "tf.Tensor([[6.5873435e-05]], shape=(1, 1), dtype=float32)\n",
      "tf.Tensor([[6.326424e-05]], shape=(1, 1), dtype=float32)\n",
      "tf.Tensor([[6.0759798e-05]], shape=(1, 1), dtype=float32)\n",
      "tf.Tensor([[5.835327e-05]], shape=(1, 1), dtype=float32)\n",
      "tf.Tensor([[5.604177e-05]], shape=(1, 1), dtype=float32)\n",
      "tf.Tensor([[5.3822445e-05]], shape=(1, 1), dtype=float32)\n",
      "tf.Tensor([[5.1692514e-05]], shape=(1, 1), dtype=float32)\n",
      "tf.Tensor([[4.9645896e-05]], shape=(1, 1), dtype=float32)\n",
      "tf.Tensor([[4.7680114e-05]], shape=(1, 1), dtype=float32)\n",
      "tf.Tensor([[4.5792756e-05]], shape=(1, 1), dtype=float32)\n",
      "tf.Tensor([[4.397829e-05]], shape=(1, 1), dtype=float32)\n",
      "tf.Tensor([[4.2237676e-05]], shape=(1, 1), dtype=float32)\n",
      "tf.Tensor([[4.0565614e-05]], shape=(1, 1), dtype=float32)\n",
      "tf.Tensor([[3.8960046e-05]], shape=(1, 1), dtype=float32)\n",
      "tf.Tensor([[3.7416063e-05]], shape=(1, 1), dtype=float32)\n",
      "tf.Tensor([[3.593473e-05]], shape=(1, 1), dtype=float32)\n",
      "tf.Tensor([[3.4511322e-05]], shape=(1, 1), dtype=float32)\n",
      "tf.Tensor([[3.3144126e-05]], shape=(1, 1), dtype=float32)\n",
      "tf.Tensor([[3.1831456e-05]], shape=(1, 1), dtype=float32)\n",
      "tf.Tensor([[3.0571668e-05]], shape=(1, 1), dtype=float32)\n",
      "tf.Tensor([[2.9360566e-05]], shape=(1, 1), dtype=float32)\n",
      "tf.Tensor([[2.8196722e-05]], shape=(1, 1), dtype=float32)\n",
      "tf.Tensor([[2.7081223e-05]], shape=(1, 1), dtype=float32)\n",
      "tf.Tensor([[2.6007689e-05]], shape=(1, 1), dtype=float32)\n",
      "tf.Tensor([[2.4977307e-05]], shape=(1, 1), dtype=float32)\n",
      "tf.Tensor([[2.3988767e-05]], shape=(1, 1), dtype=float32)\n",
      "tf.Tensor([[2.303849e-05]], shape=(1, 1), dtype=float32)\n",
      "tf.Tensor([[2.212536e-05]], shape=(1, 1), dtype=float32)\n",
      "tf.Tensor([[2.1248272e-05]], shape=(1, 1), dtype=float32)\n",
      "tf.Tensor([[2.040615e-05]], shape=(1, 1), dtype=float32)\n",
      "tf.Tensor([[1.9597941e-05]], shape=(1, 1), dtype=float32)\n",
      "tf.Tensor([[1.8822608e-05]], shape=(1, 1), dtype=float32)\n",
      "tf.Tensor([[1.8077111e-05]], shape=(1, 1), dtype=float32)\n",
      "tf.Tensor([[1.7360582e-05]], shape=(1, 1), dtype=float32)\n",
      "tf.Tensor([[1.6672167e-05]], shape=(1, 1), dtype=float32)\n",
      "tf.Tensor([[1.6011034e-05]], shape=(1, 1), dtype=float32)\n",
      "tf.Tensor([[1.5376361e-05]], shape=(1, 1), dtype=float32)\n",
      "tf.Tensor([[1.4767347e-05]], shape=(1, 1), dtype=float32)\n",
      "tf.Tensor([[1.4183207e-05]], shape=(1, 1), dtype=float32)\n",
      "tf.Tensor([[1.3621411e-05]], shape=(1, 1), dtype=float32)\n",
      "tf.Tensor([[1.3081313e-05]], shape=(1, 1), dtype=float32)\n",
      "tf.Tensor([[1.256397e-05]], shape=(1, 1), dtype=float32)\n",
      "tf.Tensor([[1.2066999e-05]], shape=(1, 1), dtype=float32)\n",
      "tf.Tensor([[1.1589796e-05]], shape=(1, 1), dtype=float32)\n",
      "tf.Tensor([[1.11301715e-05]], shape=(1, 1), dtype=float32)\n",
      "tf.Tensor([[1.06891985e-05]], shape=(1, 1), dtype=float32)\n",
      "tf.Tensor([[1.0266303e-05]], shape=(1, 1), dtype=float32)\n",
      "tf.Tensor([[9.859428e-06]], shape=(1, 1), dtype=float32)\n",
      "tf.Tensor([[9.469582e-06]], shape=(1, 1), dtype=float32)\n",
      "tf.Tensor([[9.094788e-06]], shape=(1, 1), dtype=float32)\n",
      "tf.Tensor([[8.734606e-06]], shape=(1, 1), dtype=float32)\n",
      "tf.Tensor([[8.388605e-06]], shape=(1, 1), dtype=float32)\n",
      "tf.Tensor([[8.056362e-06]], shape=(1, 1), dtype=float32)\n",
      "tf.Tensor([[7.737463e-06]], shape=(1, 1), dtype=float32)\n",
      "tf.Tensor([[7.4315017e-06]], shape=(1, 1), dtype=float32)\n",
      "tf.Tensor([[7.1368063e-06]], shape=(1, 1), dtype=float32)\n",
      "tf.Tensor([[6.8543136e-06]], shape=(1, 1), dtype=float32)\n",
      "tf.Tensor([[6.582418e-06]], shape=(1, 1), dtype=float32)\n",
      "tf.Tensor([[6.3220177e-06]], shape=(1, 1), dtype=float32)\n",
      "tf.Tensor([[6.071572e-06]], shape=(1, 1), dtype=float32)\n",
      "tf.Tensor([[5.8307924e-06]], shape=(1, 1), dtype=float32)\n",
      "tf.Tensor([[5.5993964e-06]], shape=(1, 1), dtype=float32)\n",
      "tf.Tensor([[5.3771078e-06]], shape=(1, 1), dtype=float32)\n",
      "tf.Tensor([[5.163654e-06]], shape=(1, 1), dtype=float32)\n",
      "tf.Tensor([[4.9587698e-06]], shape=(1, 1), dtype=float32)\n",
      "tf.Tensor([[4.7621943e-06]], shape=(1, 1), dtype=float32)\n",
      "tf.Tensor([[4.5736724e-06]], shape=(1, 1), dtype=float32)\n",
      "tf.Tensor([[4.392955e-06]], shape=(1, 1), dtype=float32)\n",
      "tf.Tensor([[4.2188176e-06]], shape=(1, 1), dtype=float32)\n",
      "tf.Tensor([[4.0520404e-06]], shape=(1, 1), dtype=float32)\n",
      "tf.Tensor([[3.891448e-06]], shape=(1, 1), dtype=float32)\n",
      "tf.Tensor([[3.737789e-06]], shape=(1, 1), dtype=float32)\n",
      "tf.Tensor([[3.5899352e-06]], shape=(1, 1), dtype=float32)\n",
      "tf.Tensor([[3.4477207e-06]], shape=(1, 1), dtype=float32)\n",
      "tf.Tensor([[3.3109827e-06]], shape=(1, 1), dtype=float32)\n",
      "tf.Tensor([[3.1795616e-06]], shape=(1, 1), dtype=float32)\n",
      "tf.Tensor([[3.053301e-06]], shape=(1, 1), dtype=float32)\n",
      "tf.Tensor([[2.9320474e-06]], shape=(1, 1), dtype=float32)\n",
      "tf.Tensor([[2.8156503e-06]], shape=(1, 1), dtype=float32)\n",
      "tf.Tensor([[2.7039623e-06]], shape=(1, 1), dtype=float32)\n",
      "tf.Tensor([[2.5968393e-06]], shape=(1, 1), dtype=float32)\n",
      "tf.Tensor([[2.49414e-06]], shape=(1, 1), dtype=float32)\n",
      "tf.Tensor([[2.3957264e-06]], shape=(1, 1), dtype=float32)\n",
      "tf.Tensor([[2.3007399e-06]], shape=(1, 1), dtype=float32)\n",
      "tf.Tensor([[2.2098006e-06]], shape=(1, 1), dtype=float32)\n",
      "tf.Tensor([[2.1220842e-06]], shape=(1, 1), dtype=float32)\n",
      "tf.Tensor([[2.0381858e-06]], shape=(1, 1), dtype=float32)\n",
      "tf.Tensor([[1.9573135e-06]], shape=(1, 1), dtype=float32)\n",
      "tf.Tensor([[1.8800392e-06]], shape=(1, 1), dtype=float32)\n",
      "tf.Tensor([[1.8056026e-06]], shape=(1, 1), dtype=float32)\n",
      "tf.Tensor([[1.7339248e-06]], shape=(1, 1), dtype=float32)\n",
      "tf.Tensor([[1.6655446e-06]], shape=(1, 1), dtype=float32)\n",
      "tf.Tensor([[1.5997458e-06]], shape=(1, 1), dtype=float32)\n",
      "tf.Tensor([[1.5364549e-06]], shape=(1, 1), dtype=float32)\n",
      "tf.Tensor([[1.4755997e-06]], shape=(1, 1), dtype=float32)\n",
      "tf.Tensor([[1.4171092e-06]], shape=(1, 1), dtype=float32)\n",
      "tf.Tensor([[1.3609139e-06]], shape=(1, 1), dtype=float32)\n",
      "tf.Tensor([[1.3069453e-06]], shape=(1, 1), dtype=float32)\n",
      "tf.Tensor([[1.2551369e-06]], shape=(1, 1), dtype=float32)\n",
      "tf.Tensor([[1.205423e-06]], shape=(1, 1), dtype=float32)\n",
      "tf.Tensor([[1.1577396e-06]], shape=(1, 1), dtype=float32)\n",
      "tf.Tensor([[1.1120237e-06]], shape=(1, 1), dtype=float32)\n",
      "tf.Tensor([[1.0682143e-06]], shape=(1, 1), dtype=float32)\n",
      "tf.Tensor([[1.0257681e-06]], shape=(1, 1), dtype=float32)\n",
      "tf.Tensor([[9.851288e-07]], shape=(1, 1), dtype=float32)\n",
      "tf.Tensor([[9.462383e-07]], shape=(1, 1), dtype=float32)\n",
      "tf.Tensor([[9.0858543e-07]], shape=(1, 1), dtype=float32)\n",
      "tf.Tensor([[8.7258763e-07]], shape=(1, 1), dtype=float32)\n",
      "tf.Tensor([[8.381903e-07]], shape=(1, 1), dtype=float32)\n",
      "tf.Tensor([[8.049124e-07]], shape=(1, 1), dtype=float32)\n",
      "tf.Tensor([[7.731469e-07]], shape=(1, 1), dtype=float32)\n",
      "tf.Tensor([[7.4243167e-07]], shape=(1, 1), dtype=float32)\n",
      "tf.Tensor([[7.131441e-07]], shape=(1, 1), dtype=float32)\n",
      "tf.Tensor([[6.848405e-07]], shape=(1, 1), dtype=float32)\n",
      "tf.Tensor([[6.578832e-07]], shape=(1, 1), dtype=float32)\n",
      "tf.Tensor([[6.318462e-07]], shape=(1, 1), dtype=float32)\n",
      "tf.Tensor([[6.0670624e-07]], shape=(1, 1), dtype=float32)\n",
      "tf.Tensor([[5.8280443e-07]], shape=(1, 1), dtype=float32)\n",
      "tf.Tensor([[5.5973965e-07]], shape=(1, 1), dtype=float32)\n",
      "tf.Tensor([[5.3749005e-07]], shape=(1, 1), dtype=float32)\n",
      "tf.Tensor([[5.1637676e-07]], shape=(1, 1), dtype=float32)\n",
      "tf.Tensor([[4.9602227e-07]], shape=(1, 1), dtype=float32)\n",
      "tf.Tensor([[4.7640611e-07]], shape=(1, 1), dtype=float32)\n",
      "tf.Tensor([[4.5750818e-07]], shape=(1, 1), dtype=float32)\n",
      "tf.Tensor([[4.3930868e-07]], shape=(1, 1), dtype=float32)\n",
      "tf.Tensor([[4.2178817e-07]], shape=(1, 1), dtype=float32)\n",
      "tf.Tensor([[4.0523105e-07]], shape=(1, 1), dtype=float32)\n",
      "tf.Tensor([[3.893029e-07]], shape=(1, 1), dtype=float32)\n",
      "tf.Tensor([[3.7398564e-07]], shape=(1, 1), dtype=float32)\n",
      "tf.Tensor([[3.5926155e-07]], shape=(1, 1), dtype=float32)\n",
      "tf.Tensor([[3.4511322e-07]], shape=(1, 1), dtype=float32)\n",
      "tf.Tensor([[3.315236e-07]], shape=(1, 1), dtype=float32)\n",
      "tf.Tensor([[3.18476e-07]], shape=(1, 1), dtype=float32)\n",
      "tf.Tensor([[3.0595402e-07]], shape=(1, 1), dtype=float32)\n",
      "tf.Tensor([[2.9394164e-07]], shape=(1, 1), dtype=float32)\n",
      "tf.Tensor([[2.8242317e-07]], shape=(1, 1), dtype=float32)\n",
      "tf.Tensor([[2.7113492e-07]], shape=(1, 1), dtype=float32)\n",
      "tf.Tensor([[2.6032012e-07]], shape=(1, 1), dtype=float32)\n",
      "tf.Tensor([[2.4996376e-07]], shape=(1, 1), dtype=float32)\n",
      "tf.Tensor([[2.4005118e-07]], shape=(1, 1), dtype=float32)\n",
      "tf.Tensor([[2.3056805e-07]], shape=(1, 1), dtype=float32)\n",
      "tf.Tensor([[2.2150039e-07]], shape=(1, 1), dtype=float32)\n",
      "tf.Tensor([[2.1283455e-07]], shape=(1, 1), dtype=float32)\n",
      "tf.Tensor([[2.0434163e-07]], shape=(1, 1), dtype=float32)\n",
      "tf.Tensor([[1.962328e-07]], shape=(1, 1), dtype=float32)\n",
      "tf.Tensor([[1.8849511e-07]], shape=(1, 1), dtype=float32)\n",
      "tf.Tensor([[1.8111592e-07]], shape=(1, 1), dtype=float32)\n",
      "tf.Tensor([[1.7388408e-07]], shape=(1, 1), dtype=float32)\n",
      "tf.Tensor([[1.6699437e-07]], shape=(1, 1), dtype=float32)\n",
      "tf.Tensor([[1.6043487e-07]], shape=(1, 1), dtype=float32)\n",
      "tf.Tensor([[1.5400678e-07]], shape=(1, 1), dtype=float32)\n",
      "tf.Tensor([[1.4789345e-07]], shape=(1, 1), dtype=float32)\n",
      "tf.Tensor([[1.4208359e-07]], shape=(1, 1), dtype=float32)\n",
      "tf.Tensor([[1.3639016e-07]], shape=(1, 1), dtype=float32)\n",
      "tf.Tensor([[1.3098565e-07]], shape=(1, 1), dtype=float32)\n",
      "tf.Tensor([[1.2585951e-07]], shape=(1, 1), dtype=float32)\n",
      "tf.Tensor([[1.208357e-07]], shape=(1, 1), dtype=float32)\n",
      "tf.Tensor([[1.1607659e-07]], shape=(1, 1), dtype=float32)\n",
      "tf.Tensor([[1.114131e-07]], shape=(1, 1), dtype=float32)\n",
      "tf.Tensor([[1.0700114e-07]], shape=(1, 1), dtype=float32)\n",
      "tf.Tensor([[1.02831166e-07]], shape=(1, 1), dtype=float32)\n",
      "tf.Tensor([[9.874407e-08]], shape=(1, 1), dtype=float32)\n",
      "tf.Tensor([[9.488667e-08]], shape=(1, 1), dtype=float32)\n",
      "tf.Tensor([[9.110613e-08]], shape=(1, 1), dtype=float32)\n",
      "tf.Tensor([[8.754347e-08]], shape=(1, 1), dtype=float32)\n",
      "tf.Tensor([[8.405186e-08]], shape=(1, 1), dtype=float32)\n",
      "tf.Tensor([[8.076677e-08]], shape=(1, 1), dtype=float32)\n",
      "tf.Tensor([[7.7547156e-08]], shape=(1, 1), dtype=float32)\n",
      "tf.Tensor([[7.452314e-08]], shape=(1, 1), dtype=float32)\n",
      "tf.Tensor([[7.155927e-08]], shape=(1, 1), dtype=float32)\n",
      "tf.Tensor([[6.878054e-08]], shape=(1, 1), dtype=float32)\n",
      "tf.Tensor([[6.605683e-08]], shape=(1, 1), dtype=float32)\n",
      "tf.Tensor([[6.338814e-08]], shape=(1, 1), dtype=float32)\n",
      "tf.Tensor([[6.089209e-08]], shape=(1, 1), dtype=float32)\n",
      "tf.Tensor([[5.8446176e-08]], shape=(1, 1), dtype=float32)\n",
      "tf.Tensor([[5.6163344e-08]], shape=(1, 1), dtype=float32)\n",
      "tf.Tensor([[5.3925987e-08]], shape=(1, 1), dtype=float32)\n",
      "tf.Tensor([[5.184262e-08]], shape=(1, 1), dtype=float32)\n",
      "tf.Tensor([[4.9800292e-08]], shape=(1, 1), dtype=float32)\n",
      "tf.Tensor([[4.7799006e-08]], shape=(1, 1), dtype=float32)\n",
      "tf.Tensor([[4.5940908e-08]], shape=(1, 1), dtype=float32)\n",
      "tf.Tensor([[4.4119645e-08]], shape=(1, 1), dtype=float32)\n",
      "tf.Tensor([[4.2335216e-08]], shape=(1, 1), dtype=float32)\n",
      "tf.Tensor([[4.0683744e-08]], shape=(1, 1), dtype=float32)\n",
      "tf.Tensor([[3.9065128e-08]], shape=(1, 1), dtype=float32)\n",
      "tf.Tensor([[3.7479367e-08]], shape=(1, 1), dtype=float32)\n",
      "tf.Tensor([[3.60169e-08]], shape=(1, 1), dtype=float32)\n",
      "tf.Tensor([[3.4583536e-08]], shape=(1, 1), dtype=float32)\n",
      "tf.Tensor([[3.3179276e-08]], shape=(1, 1), dtype=float32)\n",
      "tf.Tensor([[3.1889215e-08]], shape=(1, 1), dtype=float32)\n",
      "tf.Tensor([[3.0624733e-08]], shape=(1, 1), dtype=float32)\n",
      "tf.Tensor([[2.938583e-08]], shape=(1, 1), dtype=float32)\n",
      "tf.Tensor([[2.82526e-08]], shape=(1, 1), dtype=float32)\n"
     ]
    },
    {
     "data": {
      "text/plain": [
       "Text(0, 0.5, 'x value')"
      ]
     },
     "execution_count": 95,
     "metadata": {},
     "output_type": "execute_result"
    },
    {
     "data": {
      "image/png": "[encoded data removed]",
      "text/plain": [
       "<Figure size 640x480 with 1 Axes>"
      ]
     },
     "metadata": {},
     "output_type": "display_data"
    }
   ],
   "source": [
    "### Function minimization with automatic differentiation and SGD ###\n",
    "\n",
    "# Initialize a random value for our initial x\n",
    "x = tf.Variable([tf.random.normal([1])])\n",
    "print(\"Initializing x={}\".format(x.numpy()))\n",
    "\n",
    "learning_rate = 1e-2 # learning rate for SGD\n",
    "history = []\n",
    "# Define the target value\n",
    "x_f = 4\n",
    "\n",
    "# We will run SGD for a number of iterations. At each iteration, we compute the loss, \n",
    "#   compute the derivative of the loss with respect to x, and perform the SGD update.\n",
    "for i in range(500):\n",
    "  with tf.GradientTape() as tape:\n",
    "    '''TODO: define the loss as described above'''\n",
    "    loss = (x - x_f) ** 2\n",
    "    print(loss)\n",
    "\n",
    "  # loss minimization using gradient tape\n",
    "  grad = tape.gradient(loss, x) # compute the derivative of the loss with respect to x\n",
    "  new_x = x - learning_rate*grad # sgd update\n",
    "  x.assign(new_x) # update the value of x\n",
    "  history.append(x.numpy()[0])\n",
    "\n",
    "# Plot the evolution of x as we optimize towards x_f!\n",
    "plt.plot(history)\n",
    "plt.plot([0, 500],[x_f,x_f])\n",
    "plt.legend(('Predicted', 'True'))\n",
    "plt.xlabel('Iteration')\n",
    "plt.ylabel('x value')"
   ]
  },
  {
   "cell_type": "markdown",
   "metadata": {
    "id": "pC7czCwk3ceH"
   },
   "source": [
    "`GradientTape` provides an extremely flexible framework for automatic differentiation. In order to back propagate errors through a neural network, we track forward passes on the Tape, use this information to determine the gradients, and then use these gradients for optimization using SGD."
   ]
  }
 ],
 "metadata": {
  "accelerator": "GPU",
  "colab": {
   "collapsed_sections": [
    "WBk0ZDWY-ff8"
   ],
   "name": "Part1_TensorFlow.ipynb",
   "provenance": []
  },
  "kernelspec": {
   "display_name": "Python 3 (ipykernel)",
   "language": "python",
   "name": "python3"
  },
  "language_info": {
   "codemirror_mode": {
    "name": "ipython",
    "version": 3
   },
   "file_extension": ".py",
   "mimetype": "text/x-python",
   "name": "python",
   "nbconvert_exporter": "python",
   "pygments_lexer": "ipython3",
   "version": "3.11.4"
  }
 },
 "nbformat": 4,
 "nbformat_minor": 4
}
